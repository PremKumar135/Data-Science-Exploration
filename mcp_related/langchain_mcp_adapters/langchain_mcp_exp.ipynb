{
 "cells": [
  {
   "cell_type": "markdown",
   "metadata": {},
   "source": [
    "## 1. Using Langchain MCP Adapters"
   ]
  },
  {
   "cell_type": "code",
   "execution_count": 1,
   "metadata": {},
   "outputs": [
    {
     "data": {
      "text/plain": [
       "True"
      ]
     },
     "execution_count": 1,
     "metadata": {},
     "output_type": "execute_result"
    }
   ],
   "source": [
    "from dotenv import load_dotenv\n",
    "load_dotenv()"
   ]
  },
  {
   "cell_type": "code",
   "execution_count": 2,
   "metadata": {},
   "outputs": [],
   "source": [
    "from langchain_openai import ChatOpenAI\n",
    "model = ChatOpenAI(model=\"gpt-4o-mini\")"
   ]
  },
  {
   "cell_type": "markdown",
   "metadata": {},
   "source": [
    "### 1.1 Single MCP server"
   ]
  },
  {
   "cell_type": "code",
   "execution_count": 5,
   "metadata": {},
   "outputs": [
    {
     "name": "stdout",
     "output_type": "stream",
     "text": [
      "[StructuredTool(name='add', description='Add two numbers', args_schema={'properties': {'a': {'title': 'A', 'type': 'integer'}, 'b': {'title': 'B', 'type': 'integer'}}, 'required': ['a', 'b'], 'title': 'addArguments', 'type': 'object'}, response_format='content_and_artifact', coroutine=<function convert_mcp_tool_to_langchain_tool.<locals>.call_tool at 0x10a331300>), StructuredTool(name='multiply', description='Multiply two numbers', args_schema={'properties': {'a': {'title': 'A', 'type': 'integer'}, 'b': {'title': 'B', 'type': 'integer'}}, 'required': ['a', 'b'], 'title': 'multiplyArguments', 'type': 'object'}, response_format='content_and_artifact', coroutine=<function convert_mcp_tool_to_langchain_tool.<locals>.call_tool at 0x10a331580>)]\n",
      "{'messages': [HumanMessage(content=\"what's (3 + 5) x 12?\", additional_kwargs={}, response_metadata={}, id='cc3afdaa-1202-4acf-a4c9-d37102e5bf08'), AIMessage(content='', additional_kwargs={'tool_calls': [{'id': 'call_TC3kRN2gtiSu2CF3N97XE2bk', 'function': {'arguments': '{\"a\": 3, \"b\": 5}', 'name': 'add'}, 'type': 'function'}, {'id': 'call_2EbGODVEkltoWOzeYe2W7qzU', 'function': {'arguments': '{\"a\": 12, \"b\": 1}', 'name': 'multiply'}, 'type': 'function'}], 'refusal': None}, response_metadata={'token_usage': {'completion_tokens': 51, 'prompt_tokens': 77, 'total_tokens': 128, 'completion_tokens_details': {'accepted_prediction_tokens': 0, 'audio_tokens': 0, 'reasoning_tokens': 0, 'rejected_prediction_tokens': 0}, 'prompt_tokens_details': {'audio_tokens': 0, 'cached_tokens': 0}}, 'model_name': 'gpt-4o-mini-2024-07-18', 'system_fingerprint': 'fp_96c46af214', 'id': 'chatcmpl-BTwCTO9Bixy7S9yWYuCaViXo5mw6A', 'service_tier': 'default', 'finish_reason': 'tool_calls', 'logprobs': None}, id='run--923dde39-210a-4ef8-8b46-3a551b9cb432-0', tool_calls=[{'name': 'add', 'args': {'a': 3, 'b': 5}, 'id': 'call_TC3kRN2gtiSu2CF3N97XE2bk', 'type': 'tool_call'}, {'name': 'multiply', 'args': {'a': 12, 'b': 1}, 'id': 'call_2EbGODVEkltoWOzeYe2W7qzU', 'type': 'tool_call'}], usage_metadata={'input_tokens': 77, 'output_tokens': 51, 'total_tokens': 128, 'input_token_details': {'audio': 0, 'cache_read': 0}, 'output_token_details': {'audio': 0, 'reasoning': 0}}), ToolMessage(content='8', name='add', id='6047b8c5-c348-4114-9938-398f6aa94404', tool_call_id='call_TC3kRN2gtiSu2CF3N97XE2bk'), ToolMessage(content='12', name='multiply', id='3d2ee67c-5fe2-42cd-9adf-4ef83d844f2f', tool_call_id='call_2EbGODVEkltoWOzeYe2W7qzU'), AIMessage(content='', additional_kwargs={'tool_calls': [{'id': 'call_fEwyIQCaJTFYYab9whxUYjdl', 'function': {'arguments': '{\"a\":8,\"b\":12}', 'name': 'multiply'}, 'type': 'function'}], 'refusal': None}, response_metadata={'token_usage': {'completion_tokens': 18, 'prompt_tokens': 143, 'total_tokens': 161, 'completion_tokens_details': {'accepted_prediction_tokens': 0, 'audio_tokens': 0, 'reasoning_tokens': 0, 'rejected_prediction_tokens': 0}, 'prompt_tokens_details': {'audio_tokens': 0, 'cached_tokens': 0}}, 'model_name': 'gpt-4o-mini-2024-07-18', 'system_fingerprint': 'fp_96c46af214', 'id': 'chatcmpl-BTwCUwvXy7BbpBPeYKVlR8B8nJsgp', 'service_tier': 'default', 'finish_reason': 'tool_calls', 'logprobs': None}, id='run--957a191d-8017-447b-8dd4-84e9c62ce6ce-0', tool_calls=[{'name': 'multiply', 'args': {'a': 8, 'b': 12}, 'id': 'call_fEwyIQCaJTFYYab9whxUYjdl', 'type': 'tool_call'}], usage_metadata={'input_tokens': 143, 'output_tokens': 18, 'total_tokens': 161, 'input_token_details': {'audio': 0, 'cache_read': 0}, 'output_token_details': {'audio': 0, 'reasoning': 0}}), ToolMessage(content='96', name='multiply', id='b40a417e-81ef-4f7f-8032-3441a481fef4', tool_call_id='call_fEwyIQCaJTFYYab9whxUYjdl'), AIMessage(content='The result of \\\\((3 + 5) \\\\times 12\\\\) is 96.', additional_kwargs={'refusal': None}, response_metadata={'token_usage': {'completion_tokens': 22, 'prompt_tokens': 168, 'total_tokens': 190, 'completion_tokens_details': {'accepted_prediction_tokens': 0, 'audio_tokens': 0, 'reasoning_tokens': 0, 'rejected_prediction_tokens': 0}, 'prompt_tokens_details': {'audio_tokens': 0, 'cached_tokens': 0}}, 'model_name': 'gpt-4o-mini-2024-07-18', 'system_fingerprint': 'fp_96c46af214', 'id': 'chatcmpl-BTwCVDVNulPzubYpLrEb6JAOsOSsr', 'service_tier': 'default', 'finish_reason': 'stop', 'logprobs': None}, id='run--8a87f202-3a9a-45bc-8385-63f410ed5688-0', usage_metadata={'input_tokens': 168, 'output_tokens': 22, 'total_tokens': 190, 'input_token_details': {'audio': 0, 'cache_read': 0}, 'output_token_details': {'audio': 0, 'reasoning': 0}})]}\n"
     ]
    }
   ],
   "source": [
    "# Create server parameters for stdio connection\n",
    "from mcp import ClientSession, StdioServerParameters\n",
    "from mcp.client.stdio import stdio_client\n",
    "from langchain_mcp_adapters.tools import load_mcp_tools\n",
    "from langgraph.prebuilt import create_react_agent\n",
    "\n",
    "\n",
    "server_params = StdioServerParameters(command=\"python\", args=[\"./mcp_server_math.py\"],)\n",
    "\n",
    "async with stdio_client(server_params) as (read, write):\n",
    "    async with ClientSession(read, write) as session:\n",
    "        # Initialize the connection\n",
    "        await session.initialize()\n",
    "\n",
    "        # Get tools\n",
    "        tools = await load_mcp_tools(session)\n",
    "        print(tools)\n",
    "\n",
    "        # Create and run the agent\n",
    "        agent = create_react_agent(model, tools)\n",
    "        agent_response = await agent.ainvoke({\"messages\": \"what's (3 + 5) x 12?\"})\n",
    "        print(agent_response)"
   ]
  },
  {
   "cell_type": "code",
   "execution_count": 8,
   "metadata": {},
   "outputs": [
    {
     "name": "stdout",
     "output_type": "stream",
     "text": [
      "The result of \\((3 + 5) \\times 12\\) is 96.\n"
     ]
    }
   ],
   "source": [
    "print(agent_response['messages'][-1].content)"
   ]
  },
  {
   "cell_type": "markdown",
   "metadata": {},
   "source": [
    "### 1.2 Multiple servers at the same time"
   ]
  },
  {
   "cell_type": "code",
   "execution_count": 9,
   "metadata": {},
   "outputs": [
    {
     "name": "stdout",
     "output_type": "stream",
     "text": [
      "The result of \\((3 + 5) \\times 12\\) is 96.\n",
      "The weather in NYC is always sunny!\n"
     ]
    }
   ],
   "source": [
    "from langchain_mcp_adapters.client import MultiServerMCPClient\n",
    "from langgraph.prebuilt import create_react_agent\n",
    "\n",
    "from langchain_openai import ChatOpenAI\n",
    "\n",
    "\n",
    "config = {\n",
    "        \"math\":{\n",
    "            \"command\": \"python\",\n",
    "            \"args\": [\"./mcp_server_math.py\"],\n",
    "            \"transport\": \"stdio\",\n",
    "            },\n",
    "        \"weather\": {\n",
    "            # make sure you start your weather server on port 8000\n",
    "            \"url\": \"http://localhost:8000/sse\",\n",
    "            \"transport\": \"sse\",\n",
    "            }\n",
    "    }\n",
    "\n",
    "async with MultiServerMCPClient(config) as client:\n",
    "    agent = create_react_agent(model, client.get_tools())\n",
    "    math_response = await agent.ainvoke({\"messages\": \"what's (3 + 5) x 12?\"})\n",
    "    weather_response = await agent.ainvoke({\"messages\": \"what is the weather in nyc?\"})\n",
    "\n",
    "print(agent_response['messages'][-1].content)\n",
    "print(weather_response['messages'][-1].content)"
   ]
  },
  {
   "cell_type": "markdown",
   "metadata": {},
   "source": [
    "### 1.3 Trying only with config"
   ]
  },
  {
   "cell_type": "markdown",
   "metadata": {},
   "source": [
    "#### 1.3.1 single config"
   ]
  },
  {
   "cell_type": "code",
   "execution_count": 6,
   "metadata": {},
   "outputs": [
    {
     "name": "stdout",
     "output_type": "stream",
     "text": [
      "[StructuredTool(name='create_or_update_file', description='Create or update a single file in a GitHub repository', args_schema={'type': 'object', 'properties': {'owner': {'type': 'string', 'description': 'Repository owner (username or organization)'}, 'repo': {'type': 'string', 'description': 'Repository name'}, 'path': {'type': 'string', 'description': 'Path where to create/update the file'}, 'content': {'type': 'string', 'description': 'Content of the file'}, 'message': {'type': 'string', 'description': 'Commit message'}, 'branch': {'type': 'string', 'description': 'Branch to create/update the file in'}, 'sha': {'type': 'string', 'description': 'SHA of the file being replaced (required when updating existing files)'}}, 'required': ['owner', 'repo', 'path', 'content', 'message', 'branch'], 'additionalProperties': False, '$schema': 'http://json-schema.org/draft-07/schema#'}, response_format='content_and_artifact', coroutine=<function convert_mcp_tool_to_langchain_tool.<locals>.call_tool at 0x11ae711c0>), StructuredTool(name='search_repositories', description='Search for GitHub repositories', args_schema={'type': 'object', 'properties': {'query': {'type': 'string', 'description': 'Search query (see GitHub search syntax)'}, 'page': {'type': 'number', 'description': 'Page number for pagination (default: 1)'}, 'perPage': {'type': 'number', 'description': 'Number of results per page (default: 30, max: 100)'}}, 'required': ['query'], 'additionalProperties': False, '$schema': 'http://json-schema.org/draft-07/schema#'}, response_format='content_and_artifact', coroutine=<function convert_mcp_tool_to_langchain_tool.<locals>.call_tool at 0x11ae71260>), StructuredTool(name='create_repository', description='Create a new GitHub repository in your account', args_schema={'type': 'object', 'properties': {'name': {'type': 'string', 'description': 'Repository name'}, 'description': {'type': 'string', 'description': 'Repository description'}, 'private': {'type': 'boolean', 'description': 'Whether the repository should be private'}, 'autoInit': {'type': 'boolean', 'description': 'Initialize with README.md'}}, 'required': ['name'], 'additionalProperties': False, '$schema': 'http://json-schema.org/draft-07/schema#'}, response_format='content_and_artifact', coroutine=<function convert_mcp_tool_to_langchain_tool.<locals>.call_tool at 0x11ae71300>), StructuredTool(name='get_file_contents', description='Get the contents of a file or directory from a GitHub repository', args_schema={'type': 'object', 'properties': {'owner': {'type': 'string', 'description': 'Repository owner (username or organization)'}, 'repo': {'type': 'string', 'description': 'Repository name'}, 'path': {'type': 'string', 'description': 'Path to the file or directory'}, 'branch': {'type': 'string', 'description': 'Branch to get contents from'}}, 'required': ['owner', 'repo', 'path'], 'additionalProperties': False, '$schema': 'http://json-schema.org/draft-07/schema#'}, response_format='content_and_artifact', coroutine=<function convert_mcp_tool_to_langchain_tool.<locals>.call_tool at 0x11ae713a0>), StructuredTool(name='push_files', description='Push multiple files to a GitHub repository in a single commit', args_schema={'type': 'object', 'properties': {'owner': {'type': 'string', 'description': 'Repository owner (username or organization)'}, 'repo': {'type': 'string', 'description': 'Repository name'}, 'branch': {'type': 'string', 'description': \"Branch to push to (e.g., 'main' or 'master')\"}, 'files': {'type': 'array', 'items': {'type': 'object', 'properties': {'path': {'type': 'string'}, 'content': {'type': 'string'}}, 'required': ['path', 'content'], 'additionalProperties': False}, 'description': 'Array of files to push'}, 'message': {'type': 'string', 'description': 'Commit message'}}, 'required': ['owner', 'repo', 'branch', 'files', 'message'], 'additionalProperties': False, '$schema': 'http://json-schema.org/draft-07/schema#'}, response_format='content_and_artifact', coroutine=<function convert_mcp_tool_to_langchain_tool.<locals>.call_tool at 0x11ae71440>), StructuredTool(name='create_issue', description='Create a new issue in a GitHub repository', args_schema={'type': 'object', 'properties': {'owner': {'type': 'string'}, 'repo': {'type': 'string'}, 'title': {'type': 'string'}, 'body': {'type': 'string'}, 'assignees': {'type': 'array', 'items': {'type': 'string'}}, 'milestone': {'type': 'number'}, 'labels': {'type': 'array', 'items': {'type': 'string'}}}, 'required': ['owner', 'repo', 'title'], 'additionalProperties': False, '$schema': 'http://json-schema.org/draft-07/schema#'}, response_format='content_and_artifact', coroutine=<function convert_mcp_tool_to_langchain_tool.<locals>.call_tool at 0x11ae714e0>), StructuredTool(name='create_pull_request', description='Create a new pull request in a GitHub repository', args_schema={'type': 'object', 'properties': {'owner': {'type': 'string', 'description': 'Repository owner (username or organization)'}, 'repo': {'type': 'string', 'description': 'Repository name'}, 'title': {'type': 'string', 'description': 'Pull request title'}, 'body': {'type': 'string', 'description': 'Pull request body/description'}, 'head': {'type': 'string', 'description': 'The name of the branch where your changes are implemented'}, 'base': {'type': 'string', 'description': 'The name of the branch you want the changes pulled into'}, 'draft': {'type': 'boolean', 'description': 'Whether to create the pull request as a draft'}, 'maintainer_can_modify': {'type': 'boolean', 'description': 'Whether maintainers can modify the pull request'}}, 'required': ['owner', 'repo', 'title', 'head', 'base'], 'additionalProperties': False, '$schema': 'http://json-schema.org/draft-07/schema#'}, response_format='content_and_artifact', coroutine=<function convert_mcp_tool_to_langchain_tool.<locals>.call_tool at 0x11ae71580>), StructuredTool(name='fork_repository', description='Fork a GitHub repository to your account or specified organization', args_schema={'type': 'object', 'properties': {'owner': {'type': 'string', 'description': 'Repository owner (username or organization)'}, 'repo': {'type': 'string', 'description': 'Repository name'}, 'organization': {'type': 'string', 'description': 'Optional: organization to fork to (defaults to your personal account)'}}, 'required': ['owner', 'repo'], 'additionalProperties': False, '$schema': 'http://json-schema.org/draft-07/schema#'}, response_format='content_and_artifact', coroutine=<function convert_mcp_tool_to_langchain_tool.<locals>.call_tool at 0x11ae71620>), StructuredTool(name='create_branch', description='Create a new branch in a GitHub repository', args_schema={'type': 'object', 'properties': {'owner': {'type': 'string', 'description': 'Repository owner (username or organization)'}, 'repo': {'type': 'string', 'description': 'Repository name'}, 'branch': {'type': 'string', 'description': 'Name for the new branch'}, 'from_branch': {'type': 'string', 'description': \"Optional: source branch to create from (defaults to the repository's default branch)\"}}, 'required': ['owner', 'repo', 'branch'], 'additionalProperties': False, '$schema': 'http://json-schema.org/draft-07/schema#'}, response_format='content_and_artifact', coroutine=<function convert_mcp_tool_to_langchain_tool.<locals>.call_tool at 0x11ae716c0>), StructuredTool(name='list_commits', description='Get list of commits of a branch in a GitHub repository', args_schema={'type': 'object', 'properties': {'owner': {'type': 'string'}, 'repo': {'type': 'string'}, 'sha': {'type': 'string'}, 'page': {'type': 'number'}, 'perPage': {'type': 'number'}}, 'required': ['owner', 'repo'], 'additionalProperties': False, '$schema': 'http://json-schema.org/draft-07/schema#'}, response_format='content_and_artifact', coroutine=<function convert_mcp_tool_to_langchain_tool.<locals>.call_tool at 0x11ae71760>), StructuredTool(name='list_issues', description='List issues in a GitHub repository with filtering options', args_schema={'type': 'object', 'properties': {'owner': {'type': 'string'}, 'repo': {'type': 'string'}, 'direction': {'type': 'string', 'enum': ['asc', 'desc']}, 'labels': {'type': 'array', 'items': {'type': 'string'}}, 'page': {'type': 'number'}, 'per_page': {'type': 'number'}, 'since': {'type': 'string'}, 'sort': {'type': 'string', 'enum': ['created', 'updated', 'comments']}, 'state': {'type': 'string', 'enum': ['open', 'closed', 'all']}}, 'required': ['owner', 'repo'], 'additionalProperties': False, '$schema': 'http://json-schema.org/draft-07/schema#'}, response_format='content_and_artifact', coroutine=<function convert_mcp_tool_to_langchain_tool.<locals>.call_tool at 0x11ae71800>), StructuredTool(name='update_issue', description='Update an existing issue in a GitHub repository', args_schema={'type': 'object', 'properties': {'owner': {'type': 'string'}, 'repo': {'type': 'string'}, 'issue_number': {'type': 'number'}, 'title': {'type': 'string'}, 'body': {'type': 'string'}, 'assignees': {'type': 'array', 'items': {'type': 'string'}}, 'milestone': {'type': 'number'}, 'labels': {'type': 'array', 'items': {'type': 'string'}}, 'state': {'type': 'string', 'enum': ['open', 'closed']}}, 'required': ['owner', 'repo', 'issue_number'], 'additionalProperties': False, '$schema': 'http://json-schema.org/draft-07/schema#'}, response_format='content_and_artifact', coroutine=<function convert_mcp_tool_to_langchain_tool.<locals>.call_tool at 0x11ae718a0>), StructuredTool(name='add_issue_comment', description='Add a comment to an existing issue', args_schema={'type': 'object', 'properties': {'owner': {'type': 'string'}, 'repo': {'type': 'string'}, 'issue_number': {'type': 'number'}, 'body': {'type': 'string'}}, 'required': ['owner', 'repo', 'issue_number', 'body'], 'additionalProperties': False, '$schema': 'http://json-schema.org/draft-07/schema#'}, response_format='content_and_artifact', coroutine=<function convert_mcp_tool_to_langchain_tool.<locals>.call_tool at 0x11ae71940>), StructuredTool(name='search_code', description='Search for code across GitHub repositories', args_schema={'type': 'object', 'properties': {'q': {'type': 'string'}, 'order': {'type': 'string', 'enum': ['asc', 'desc']}, 'page': {'type': 'number', 'minimum': 1}, 'per_page': {'type': 'number', 'minimum': 1, 'maximum': 100}}, 'required': ['q'], 'additionalProperties': False, '$schema': 'http://json-schema.org/draft-07/schema#'}, response_format='content_and_artifact', coroutine=<function convert_mcp_tool_to_langchain_tool.<locals>.call_tool at 0x11ae719e0>), StructuredTool(name='search_issues', description='Search for issues and pull requests across GitHub repositories', args_schema={'type': 'object', 'properties': {'q': {'type': 'string'}, 'order': {'type': 'string', 'enum': ['asc', 'desc']}, 'page': {'type': 'number', 'minimum': 1}, 'per_page': {'type': 'number', 'minimum': 1, 'maximum': 100}, 'sort': {'type': 'string', 'enum': ['comments', 'reactions', 'reactions-+1', 'reactions--1', 'reactions-smile', 'reactions-thinking_face', 'reactions-heart', 'reactions-tada', 'interactions', 'created', 'updated']}}, 'required': ['q'], 'additionalProperties': False, '$schema': 'http://json-schema.org/draft-07/schema#'}, response_format='content_and_artifact', coroutine=<function convert_mcp_tool_to_langchain_tool.<locals>.call_tool at 0x11ae71a80>), StructuredTool(name='search_users', description='Search for users on GitHub', args_schema={'type': 'object', 'properties': {'q': {'type': 'string'}, 'order': {'type': 'string', 'enum': ['asc', 'desc']}, 'page': {'type': 'number', 'minimum': 1}, 'per_page': {'type': 'number', 'minimum': 1, 'maximum': 100}, 'sort': {'type': 'string', 'enum': ['followers', 'repositories', 'joined']}}, 'required': ['q'], 'additionalProperties': False, '$schema': 'http://json-schema.org/draft-07/schema#'}, response_format='content_and_artifact', coroutine=<function convert_mcp_tool_to_langchain_tool.<locals>.call_tool at 0x11ae71b20>), StructuredTool(name='get_issue', description='Get details of a specific issue in a GitHub repository.', args_schema={'type': 'object', 'properties': {'owner': {'type': 'string'}, 'repo': {'type': 'string'}, 'issue_number': {'type': 'number'}}, 'required': ['owner', 'repo', 'issue_number'], 'additionalProperties': False, '$schema': 'http://json-schema.org/draft-07/schema#'}, response_format='content_and_artifact', coroutine=<function convert_mcp_tool_to_langchain_tool.<locals>.call_tool at 0x11ae71bc0>), StructuredTool(name='get_pull_request', description='Get details of a specific pull request', args_schema={'type': 'object', 'properties': {'owner': {'type': 'string', 'description': 'Repository owner (username or organization)'}, 'repo': {'type': 'string', 'description': 'Repository name'}, 'pull_number': {'type': 'number', 'description': 'Pull request number'}}, 'required': ['owner', 'repo', 'pull_number'], 'additionalProperties': False, '$schema': 'http://json-schema.org/draft-07/schema#'}, response_format='content_and_artifact', coroutine=<function convert_mcp_tool_to_langchain_tool.<locals>.call_tool at 0x11ae71c60>), StructuredTool(name='list_pull_requests', description='List and filter repository pull requests', args_schema={'type': 'object', 'properties': {'owner': {'type': 'string', 'description': 'Repository owner (username or organization)'}, 'repo': {'type': 'string', 'description': 'Repository name'}, 'state': {'type': 'string', 'enum': ['open', 'closed', 'all'], 'description': 'State of the pull requests to return'}, 'head': {'type': 'string', 'description': 'Filter by head user or head organization and branch name'}, 'base': {'type': 'string', 'description': 'Filter by base branch name'}, 'sort': {'type': 'string', 'enum': ['created', 'updated', 'popularity', 'long-running'], 'description': 'What to sort results by'}, 'direction': {'type': 'string', 'enum': ['asc', 'desc'], 'description': 'The direction of the sort'}, 'per_page': {'type': 'number', 'description': 'Results per page (max 100)'}, 'page': {'type': 'number', 'description': 'Page number of the results'}}, 'required': ['owner', 'repo'], 'additionalProperties': False, '$schema': 'http://json-schema.org/draft-07/schema#'}, response_format='content_and_artifact', coroutine=<function convert_mcp_tool_to_langchain_tool.<locals>.call_tool at 0x11ae71d00>), StructuredTool(name='create_pull_request_review', description='Create a review on a pull request', args_schema={'type': 'object', 'properties': {'owner': {'type': 'string', 'description': 'Repository owner (username or organization)'}, 'repo': {'type': 'string', 'description': 'Repository name'}, 'pull_number': {'type': 'number', 'description': 'Pull request number'}, 'commit_id': {'type': 'string', 'description': 'The SHA of the commit that needs a review'}, 'body': {'type': 'string', 'description': 'The body text of the review'}, 'event': {'type': 'string', 'enum': ['APPROVE', 'REQUEST_CHANGES', 'COMMENT'], 'description': 'The review action to perform'}, 'comments': {'type': 'array', 'items': {'anyOf': [{'type': 'object', 'properties': {'path': {'type': 'string', 'description': 'The relative path to the file being commented on'}, 'position': {'type': 'number', 'description': 'The position in the diff where you want to add a review comment'}, 'body': {'type': 'string', 'description': 'Text of the review comment'}}, 'required': ['path', 'position', 'body'], 'additionalProperties': False}, {'type': 'object', 'properties': {'path': {'type': 'string', 'description': 'The relative path to the file being commented on'}, 'line': {'type': 'number', 'description': 'The line number in the file where you want to add a review comment'}, 'body': {'type': 'string', 'description': 'Text of the review comment'}}, 'required': ['path', 'line', 'body'], 'additionalProperties': False}]}, 'description': 'Comments to post as part of the review (specify either position or line, not both)'}}, 'required': ['owner', 'repo', 'pull_number', 'body', 'event'], 'additionalProperties': False, '$schema': 'http://json-schema.org/draft-07/schema#'}, response_format='content_and_artifact', coroutine=<function convert_mcp_tool_to_langchain_tool.<locals>.call_tool at 0x11ae71da0>), StructuredTool(name='merge_pull_request', description='Merge a pull request', args_schema={'type': 'object', 'properties': {'owner': {'type': 'string', 'description': 'Repository owner (username or organization)'}, 'repo': {'type': 'string', 'description': 'Repository name'}, 'pull_number': {'type': 'number', 'description': 'Pull request number'}, 'commit_title': {'type': 'string', 'description': 'Title for the automatic commit message'}, 'commit_message': {'type': 'string', 'description': 'Extra detail to append to automatic commit message'}, 'merge_method': {'type': 'string', 'enum': ['merge', 'squash', 'rebase'], 'description': 'Merge method to use'}}, 'required': ['owner', 'repo', 'pull_number'], 'additionalProperties': False, '$schema': 'http://json-schema.org/draft-07/schema#'}, response_format='content_and_artifact', coroutine=<function convert_mcp_tool_to_langchain_tool.<locals>.call_tool at 0x11ae71e40>), StructuredTool(name='get_pull_request_files', description='Get the list of files changed in a pull request', args_schema={'type': 'object', 'properties': {'owner': {'type': 'string', 'description': 'Repository owner (username or organization)'}, 'repo': {'type': 'string', 'description': 'Repository name'}, 'pull_number': {'type': 'number', 'description': 'Pull request number'}}, 'required': ['owner', 'repo', 'pull_number'], 'additionalProperties': False, '$schema': 'http://json-schema.org/draft-07/schema#'}, response_format='content_and_artifact', coroutine=<function convert_mcp_tool_to_langchain_tool.<locals>.call_tool at 0x11ae71ee0>), StructuredTool(name='get_pull_request_status', description='Get the combined status of all status checks for a pull request', args_schema={'type': 'object', 'properties': {'owner': {'type': 'string', 'description': 'Repository owner (username or organization)'}, 'repo': {'type': 'string', 'description': 'Repository name'}, 'pull_number': {'type': 'number', 'description': 'Pull request number'}}, 'required': ['owner', 'repo', 'pull_number'], 'additionalProperties': False, '$schema': 'http://json-schema.org/draft-07/schema#'}, response_format='content_and_artifact', coroutine=<function convert_mcp_tool_to_langchain_tool.<locals>.call_tool at 0x11ae71f80>), StructuredTool(name='update_pull_request_branch', description='Update a pull request branch with the latest changes from the base branch', args_schema={'type': 'object', 'properties': {'owner': {'type': 'string', 'description': 'Repository owner (username or organization)'}, 'repo': {'type': 'string', 'description': 'Repository name'}, 'pull_number': {'type': 'number', 'description': 'Pull request number'}, 'expected_head_sha': {'type': 'string', 'description': \"The expected SHA of the pull request's HEAD ref\"}}, 'required': ['owner', 'repo', 'pull_number'], 'additionalProperties': False, '$schema': 'http://json-schema.org/draft-07/schema#'}, response_format='content_and_artifact', coroutine=<function convert_mcp_tool_to_langchain_tool.<locals>.call_tool at 0x11ae72020>), StructuredTool(name='get_pull_request_comments', description='Get the review comments on a pull request', args_schema={'type': 'object', 'properties': {'owner': {'type': 'string', 'description': 'Repository owner (username or organization)'}, 'repo': {'type': 'string', 'description': 'Repository name'}, 'pull_number': {'type': 'number', 'description': 'Pull request number'}}, 'required': ['owner', 'repo', 'pull_number'], 'additionalProperties': False, '$schema': 'http://json-schema.org/draft-07/schema#'}, response_format='content_and_artifact', coroutine=<function convert_mcp_tool_to_langchain_tool.<locals>.call_tool at 0x11ae720c0>), StructuredTool(name='get_pull_request_reviews', description='Get the reviews on a pull request', args_schema={'type': 'object', 'properties': {'owner': {'type': 'string', 'description': 'Repository owner (username or organization)'}, 'repo': {'type': 'string', 'description': 'Repository name'}, 'pull_number': {'type': 'number', 'description': 'Pull request number'}}, 'required': ['owner', 'repo', 'pull_number'], 'additionalProperties': False, '$schema': 'http://json-schema.org/draft-07/schema#'}, response_format='content_and_artifact', coroutine=<function convert_mcp_tool_to_langchain_tool.<locals>.call_tool at 0x11ae72160>)]\n",
      "I can help you with various tasks related to your GitHub repository, including but not limited to:\n",
      "\n",
      "1. **Repository Management:**\n",
      "   - Create a new repository.\n",
      "   - Fork an existing repository.\n",
      "   - Delete a repository.\n",
      "\n",
      "2. **Branch Management:**\n",
      "   - Create a new branch.\n",
      "   - List branches.\n",
      "\n",
      "3. **File Management:**\n",
      "   - Create or update files in your repository.\n",
      "   - Push multiple files in a single commit.\n",
      "   - Get contents of a file or directory.\n",
      "\n",
      "4. **Issue Tracking:**\n",
      "   - Create a new issue.\n",
      "   - List issues with filtering options.\n",
      "   - Update existing issues.\n",
      "   - Add comments to issues.\n",
      "\n",
      "5. **Pull Requests:**\n",
      "   - Create a new pull request.\n",
      "   - List pull requests with filtering options.\n",
      "   - Merge pull requests.\n",
      "   - Get details of a pull request.\n",
      "   - Review pull requests.\n",
      "\n",
      "6. **Commit Management:**\n",
      "   - List commits.\n",
      "   - Get the files changed in a pull request.\n",
      "\n",
      "7. **Comments and Reviews:**\n",
      "   - Add comments to issues and pull requests.\n",
      "   - Create reviews on pull requests.\n",
      "   - Get reviews and comments on pull requests.\n",
      "\n",
      "8. **Search Functionality:**\n",
      "   - Search for repositories, code, issues, and users.\n",
      "  \n",
      "Let me know what specific task you would like help with!\n"
     ]
    },
    {
     "name": "stderr",
     "output_type": "stream",
     "text": [
      "/var/folders/14/v6n289_j38zblcgwvg271f1w0000gn/T/ipykernel_57328/2129254800.py:29: RuntimeWarning: coroutine 'Pregel.ainvoke' was never awaited\n",
      "  response = await agent.ainvoke({'messages':\"What are the things you can do with my repository\"})\n",
      "RuntimeWarning: Enable tracemalloc to get the object allocation traceback\n"
     ]
    }
   ],
   "source": [
    "from dotenv import load_dotenv\n",
    "load_dotenv()\n",
    "\n",
    "import os\n",
    "from langchain_mcp_adapters.client import MultiServerMCPClient\n",
    "from langgraph.prebuilt import create_react_agent\n",
    "from langchain_openai import ChatOpenAI\n",
    "\n",
    "model = ChatOpenAI(model='gpt-4o-mini')\n",
    "\n",
    "\n",
    "config = {\n",
    "    \"github\": {\n",
    "                \"command\": \"npx\",\n",
    "                \"args\": [\n",
    "                    \"-y\",\n",
    "                    \"@modelcontextprotocol/server-github\"\n",
    "                ],\n",
    "                \"env\": {\n",
    "                    \"GITHUB_PERSONAL_ACCESS_TOKEN\": os.getenv('GITHUB_PERSONAL_TOKEN')\n",
    "                }\n",
    "            }\n",
    "  }\n",
    "\n",
    "\n",
    "async with MultiServerMCPClient(config) as client:\n",
    "    print(client.get_tools())\n",
    "    agent = create_react_agent(model, client.get_tools())\n",
    "    response = await agent.ainvoke({'messages':\"What are the things you can do with my repository\"})\n",
    "    print(response['messages'][-1].content)\n"
   ]
  },
  {
   "cell_type": "code",
   "execution_count": 10,
   "metadata": {},
   "outputs": [
    {
     "name": "stdout",
     "output_type": "stream",
     "text": [
      "[StructuredTool(name='browser_close', description='Close the page', args_schema={'type': 'object', 'properties': {}, 'additionalProperties': False, '$schema': 'http://json-schema.org/draft-07/schema#'}, response_format='content_and_artifact', coroutine=<function convert_mcp_tool_to_langchain_tool.<locals>.call_tool at 0x11bc4c860>), StructuredTool(name='browser_wait', description='Wait for a specified time in seconds', args_schema={'type': 'object', 'properties': {'time': {'type': 'number', 'description': 'The time to wait in seconds'}}, 'required': ['time'], 'additionalProperties': False, '$schema': 'http://json-schema.org/draft-07/schema#'}, response_format='content_and_artifact', coroutine=<function convert_mcp_tool_to_langchain_tool.<locals>.call_tool at 0x11bc4c5e0>), StructuredTool(name='browser_resize', description='Resize the browser window', args_schema={'type': 'object', 'properties': {'width': {'type': 'number', 'description': 'Width of the browser window'}, 'height': {'type': 'number', 'description': 'Height of the browser window'}}, 'required': ['width', 'height'], 'additionalProperties': False, '$schema': 'http://json-schema.org/draft-07/schema#'}, response_format='content_and_artifact', coroutine=<function convert_mcp_tool_to_langchain_tool.<locals>.call_tool at 0x11bc4c9a0>), StructuredTool(name='browser_console_messages', description='Returns all console messages', args_schema={'type': 'object', 'properties': {}, 'additionalProperties': False, '$schema': 'http://json-schema.org/draft-07/schema#'}, response_format='content_and_artifact', coroutine=<function convert_mcp_tool_to_langchain_tool.<locals>.call_tool at 0x11bc4ca40>), StructuredTool(name='browser_handle_dialog', description='Handle a dialog', args_schema={'type': 'object', 'properties': {'accept': {'type': 'boolean', 'description': 'Whether to accept the dialog.'}, 'promptText': {'type': 'string', 'description': 'The text of the prompt in case of a prompt dialog.'}}, 'required': ['accept'], 'additionalProperties': False, '$schema': 'http://json-schema.org/draft-07/schema#'}, response_format='content_and_artifact', coroutine=<function convert_mcp_tool_to_langchain_tool.<locals>.call_tool at 0x11bc4cae0>), StructuredTool(name='browser_file_upload', description='Upload one or multiple files', args_schema={'type': 'object', 'properties': {'paths': {'type': 'array', 'items': {'type': 'string'}, 'description': 'The absolute paths to the files to upload. Can be a single file or multiple files.'}}, 'required': ['paths'], 'additionalProperties': False, '$schema': 'http://json-schema.org/draft-07/schema#'}, response_format='content_and_artifact', coroutine=<function convert_mcp_tool_to_langchain_tool.<locals>.call_tool at 0x11bc4cb80>), StructuredTool(name='browser_install', description='Install the browser specified in the config. Call this if you get an error about the browser not being installed.', args_schema={'type': 'object', 'properties': {}, 'additionalProperties': False, '$schema': 'http://json-schema.org/draft-07/schema#'}, response_format='content_and_artifact', coroutine=<function convert_mcp_tool_to_langchain_tool.<locals>.call_tool at 0x11bc4cc20>), StructuredTool(name='browser_press_key', description='Press a key on the keyboard', args_schema={'type': 'object', 'properties': {'key': {'type': 'string', 'description': 'Name of the key to press or a character to generate, such as `ArrowLeft` or `a`'}}, 'required': ['key'], 'additionalProperties': False, '$schema': 'http://json-schema.org/draft-07/schema#'}, response_format='content_and_artifact', coroutine=<function convert_mcp_tool_to_langchain_tool.<locals>.call_tool at 0x11bc4ccc0>), StructuredTool(name='browser_navigate', description='Navigate to a URL', args_schema={'type': 'object', 'properties': {'url': {'type': 'string', 'description': 'The URL to navigate to'}}, 'required': ['url'], 'additionalProperties': False, '$schema': 'http://json-schema.org/draft-07/schema#'}, response_format='content_and_artifact', coroutine=<function convert_mcp_tool_to_langchain_tool.<locals>.call_tool at 0x11bc4cd60>), StructuredTool(name='browser_navigate_back', description='Go back to the previous page', args_schema={'type': 'object', 'properties': {}, 'additionalProperties': False, '$schema': 'http://json-schema.org/draft-07/schema#'}, response_format='content_and_artifact', coroutine=<function convert_mcp_tool_to_langchain_tool.<locals>.call_tool at 0x11bc4ce00>), StructuredTool(name='browser_navigate_forward', description='Go forward to the next page', args_schema={'type': 'object', 'properties': {}, 'additionalProperties': False, '$schema': 'http://json-schema.org/draft-07/schema#'}, response_format='content_and_artifact', coroutine=<function convert_mcp_tool_to_langchain_tool.<locals>.call_tool at 0x11bc4cea0>), StructuredTool(name='browser_network_requests', description='Returns all network requests since loading the page', args_schema={'type': 'object', 'properties': {}, 'additionalProperties': False, '$schema': 'http://json-schema.org/draft-07/schema#'}, response_format='content_and_artifact', coroutine=<function convert_mcp_tool_to_langchain_tool.<locals>.call_tool at 0x11bc4cf40>), StructuredTool(name='browser_pdf_save', description='Save page as PDF', args_schema={'type': 'object', 'properties': {}, 'additionalProperties': False, '$schema': 'http://json-schema.org/draft-07/schema#'}, response_format='content_and_artifact', coroutine=<function convert_mcp_tool_to_langchain_tool.<locals>.call_tool at 0x11bc4cfe0>), StructuredTool(name='browser_snapshot', description='Capture accessibility snapshot of the current page, this is better than screenshot', args_schema={'type': 'object', 'properties': {}, 'additionalProperties': False, '$schema': 'http://json-schema.org/draft-07/schema#'}, response_format='content_and_artifact', coroutine=<function convert_mcp_tool_to_langchain_tool.<locals>.call_tool at 0x11bc4d080>), StructuredTool(name='browser_click', description='Perform click on a web page', args_schema={'type': 'object', 'properties': {'element': {'type': 'string', 'description': 'Human-readable element description used to obtain permission to interact with the element'}, 'ref': {'type': 'string', 'description': 'Exact target element reference from the page snapshot'}}, 'required': ['element', 'ref'], 'additionalProperties': False, '$schema': 'http://json-schema.org/draft-07/schema#'}, response_format='content_and_artifact', coroutine=<function convert_mcp_tool_to_langchain_tool.<locals>.call_tool at 0x11bc4d120>), StructuredTool(name='browser_drag', description='Perform drag and drop between two elements', args_schema={'type': 'object', 'properties': {'startElement': {'type': 'string', 'description': 'Human-readable source element description used to obtain the permission to interact with the element'}, 'startRef': {'type': 'string', 'description': 'Exact source element reference from the page snapshot'}, 'endElement': {'type': 'string', 'description': 'Human-readable target element description used to obtain the permission to interact with the element'}, 'endRef': {'type': 'string', 'description': 'Exact target element reference from the page snapshot'}}, 'required': ['startElement', 'startRef', 'endElement', 'endRef'], 'additionalProperties': False, '$schema': 'http://json-schema.org/draft-07/schema#'}, response_format='content_and_artifact', coroutine=<function convert_mcp_tool_to_langchain_tool.<locals>.call_tool at 0x11bc4d1c0>), StructuredTool(name='browser_hover', description='Hover over element on page', args_schema={'type': 'object', 'properties': {'element': {'type': 'string', 'description': 'Human-readable element description used to obtain permission to interact with the element'}, 'ref': {'type': 'string', 'description': 'Exact target element reference from the page snapshot'}}, 'required': ['element', 'ref'], 'additionalProperties': False, '$schema': 'http://json-schema.org/draft-07/schema#'}, response_format='content_and_artifact', coroutine=<function convert_mcp_tool_to_langchain_tool.<locals>.call_tool at 0x11bc4d260>), StructuredTool(name='browser_type', description='Type text into editable element', args_schema={'type': 'object', 'properties': {'element': {'type': 'string', 'description': 'Human-readable element description used to obtain permission to interact with the element'}, 'ref': {'type': 'string', 'description': 'Exact target element reference from the page snapshot'}, 'text': {'type': 'string', 'description': 'Text to type into the element'}, 'submit': {'type': 'boolean', 'description': 'Whether to submit entered text (press Enter after)'}, 'slowly': {'type': 'boolean', 'description': 'Whether to type one character at a time. Useful for triggering key handlers in the page. By default entire text is filled in at once.'}}, 'required': ['element', 'ref', 'text'], 'additionalProperties': False, '$schema': 'http://json-schema.org/draft-07/schema#'}, response_format='content_and_artifact', coroutine=<function convert_mcp_tool_to_langchain_tool.<locals>.call_tool at 0x11bc4d300>), StructuredTool(name='browser_select_option', description='Select an option in a dropdown', args_schema={'type': 'object', 'properties': {'element': {'type': 'string', 'description': 'Human-readable element description used to obtain permission to interact with the element'}, 'ref': {'type': 'string', 'description': 'Exact target element reference from the page snapshot'}, 'values': {'type': 'array', 'items': {'type': 'string'}, 'description': 'Array of values to select in the dropdown. This can be a single value or multiple values.'}}, 'required': ['element', 'ref', 'values'], 'additionalProperties': False, '$schema': 'http://json-schema.org/draft-07/schema#'}, response_format='content_and_artifact', coroutine=<function convert_mcp_tool_to_langchain_tool.<locals>.call_tool at 0x11bc4d3a0>), StructuredTool(name='browser_take_screenshot', description=\"Take a screenshot of the current page. You can't perform actions based on the screenshot, use browser_snapshot for actions.\", args_schema={'type': 'object', 'properties': {'raw': {'type': 'boolean', 'description': 'Whether to return without compression (in PNG format). Default is false, which returns a JPEG image.'}, 'element': {'type': 'string', 'description': 'Human-readable element description used to obtain permission to screenshot the element. If not provided, the screenshot will be taken of viewport. If element is provided, ref must be provided too.'}, 'ref': {'type': 'string', 'description': 'Exact target element reference from the page snapshot. If not provided, the screenshot will be taken of viewport. If ref is provided, element must be provided too.'}}, 'additionalProperties': False, '$schema': 'http://json-schema.org/draft-07/schema#'}, response_format='content_and_artifact', coroutine=<function convert_mcp_tool_to_langchain_tool.<locals>.call_tool at 0x11bc4d440>), StructuredTool(name='browser_tab_list', description='List browser tabs', args_schema={'type': 'object', 'properties': {}, 'additionalProperties': False, '$schema': 'http://json-schema.org/draft-07/schema#'}, response_format='content_and_artifact', coroutine=<function convert_mcp_tool_to_langchain_tool.<locals>.call_tool at 0x11bc4d4e0>), StructuredTool(name='browser_tab_new', description='Open a new tab', args_schema={'type': 'object', 'properties': {'url': {'type': 'string', 'description': 'The URL to navigate to in the new tab. If not provided, the new tab will be blank.'}}, 'additionalProperties': False, '$schema': 'http://json-schema.org/draft-07/schema#'}, response_format='content_and_artifact', coroutine=<function convert_mcp_tool_to_langchain_tool.<locals>.call_tool at 0x11bc4d580>), StructuredTool(name='browser_tab_select', description='Select a tab by index', args_schema={'type': 'object', 'properties': {'index': {'type': 'number', 'description': 'The index of the tab to select'}}, 'required': ['index'], 'additionalProperties': False, '$schema': 'http://json-schema.org/draft-07/schema#'}, response_format='content_and_artifact', coroutine=<function convert_mcp_tool_to_langchain_tool.<locals>.call_tool at 0x11bc4d620>), StructuredTool(name='browser_tab_close', description='Close a tab', args_schema={'type': 'object', 'properties': {'index': {'type': 'number', 'description': 'The index of the tab to close. Closes current tab if not provided.'}}, 'additionalProperties': False, '$schema': 'http://json-schema.org/draft-07/schema#'}, response_format='content_and_artifact', coroutine=<function convert_mcp_tool_to_langchain_tool.<locals>.call_tool at 0x11bc4d6c0>), StructuredTool(name='browser_generate_playwright_test', description='Generate a Playwright test for given scenario', args_schema={'type': 'object', 'properties': {'name': {'type': 'string', 'description': 'The name of the test'}, 'description': {'type': 'string', 'description': 'The description of the test'}, 'steps': {'type': 'array', 'items': {'type': 'string'}, 'description': 'The steps of the test'}}, 'required': ['name', 'description', 'steps'], 'additionalProperties': False, '$schema': 'http://json-schema.org/draft-07/schema#'}, response_format='content_and_artifact', coroutine=<function convert_mcp_tool_to_langchain_tool.<locals>.call_tool at 0x11bc4d760>), StructuredTool(name='create_or_update_file', description='Create or update a single file in a GitHub repository', args_schema={'type': 'object', 'properties': {'owner': {'type': 'string', 'description': 'Repository owner (username or organization)'}, 'repo': {'type': 'string', 'description': 'Repository name'}, 'path': {'type': 'string', 'description': 'Path where to create/update the file'}, 'content': {'type': 'string', 'description': 'Content of the file'}, 'message': {'type': 'string', 'description': 'Commit message'}, 'branch': {'type': 'string', 'description': 'Branch to create/update the file in'}, 'sha': {'type': 'string', 'description': 'SHA of the file being replaced (required when updating existing files)'}}, 'required': ['owner', 'repo', 'path', 'content', 'message', 'branch'], 'additionalProperties': False, '$schema': 'http://json-schema.org/draft-07/schema#'}, response_format='content_and_artifact', coroutine=<function convert_mcp_tool_to_langchain_tool.<locals>.call_tool at 0x11bc4df80>), StructuredTool(name='search_repositories', description='Search for GitHub repositories', args_schema={'type': 'object', 'properties': {'query': {'type': 'string', 'description': 'Search query (see GitHub search syntax)'}, 'page': {'type': 'number', 'description': 'Page number for pagination (default: 1)'}, 'perPage': {'type': 'number', 'description': 'Number of results per page (default: 30, max: 100)'}}, 'required': ['query'], 'additionalProperties': False, '$schema': 'http://json-schema.org/draft-07/schema#'}, response_format='content_and_artifact', coroutine=<function convert_mcp_tool_to_langchain_tool.<locals>.call_tool at 0x11bc4e020>), StructuredTool(name='create_repository', description='Create a new GitHub repository in your account', args_schema={'type': 'object', 'properties': {'name': {'type': 'string', 'description': 'Repository name'}, 'description': {'type': 'string', 'description': 'Repository description'}, 'private': {'type': 'boolean', 'description': 'Whether the repository should be private'}, 'autoInit': {'type': 'boolean', 'description': 'Initialize with README.md'}}, 'required': ['name'], 'additionalProperties': False, '$schema': 'http://json-schema.org/draft-07/schema#'}, response_format='content_and_artifact', coroutine=<function convert_mcp_tool_to_langchain_tool.<locals>.call_tool at 0x11bc4e0c0>), StructuredTool(name='get_file_contents', description='Get the contents of a file or directory from a GitHub repository', args_schema={'type': 'object', 'properties': {'owner': {'type': 'string', 'description': 'Repository owner (username or organization)'}, 'repo': {'type': 'string', 'description': 'Repository name'}, 'path': {'type': 'string', 'description': 'Path to the file or directory'}, 'branch': {'type': 'string', 'description': 'Branch to get contents from'}}, 'required': ['owner', 'repo', 'path'], 'additionalProperties': False, '$schema': 'http://json-schema.org/draft-07/schema#'}, response_format='content_and_artifact', coroutine=<function convert_mcp_tool_to_langchain_tool.<locals>.call_tool at 0x11bc4e160>), StructuredTool(name='push_files', description='Push multiple files to a GitHub repository in a single commit', args_schema={'type': 'object', 'properties': {'owner': {'type': 'string', 'description': 'Repository owner (username or organization)'}, 'repo': {'type': 'string', 'description': 'Repository name'}, 'branch': {'type': 'string', 'description': \"Branch to push to (e.g., 'main' or 'master')\"}, 'files': {'type': 'array', 'items': {'type': 'object', 'properties': {'path': {'type': 'string'}, 'content': {'type': 'string'}}, 'required': ['path', 'content'], 'additionalProperties': False}, 'description': 'Array of files to push'}, 'message': {'type': 'string', 'description': 'Commit message'}}, 'required': ['owner', 'repo', 'branch', 'files', 'message'], 'additionalProperties': False, '$schema': 'http://json-schema.org/draft-07/schema#'}, response_format='content_and_artifact', coroutine=<function convert_mcp_tool_to_langchain_tool.<locals>.call_tool at 0x11bc4e200>), StructuredTool(name='create_issue', description='Create a new issue in a GitHub repository', args_schema={'type': 'object', 'properties': {'owner': {'type': 'string'}, 'repo': {'type': 'string'}, 'title': {'type': 'string'}, 'body': {'type': 'string'}, 'assignees': {'type': 'array', 'items': {'type': 'string'}}, 'milestone': {'type': 'number'}, 'labels': {'type': 'array', 'items': {'type': 'string'}}}, 'required': ['owner', 'repo', 'title'], 'additionalProperties': False, '$schema': 'http://json-schema.org/draft-07/schema#'}, response_format='content_and_artifact', coroutine=<function convert_mcp_tool_to_langchain_tool.<locals>.call_tool at 0x11bc4e2a0>), StructuredTool(name='create_pull_request', description='Create a new pull request in a GitHub repository', args_schema={'type': 'object', 'properties': {'owner': {'type': 'string', 'description': 'Repository owner (username or organization)'}, 'repo': {'type': 'string', 'description': 'Repository name'}, 'title': {'type': 'string', 'description': 'Pull request title'}, 'body': {'type': 'string', 'description': 'Pull request body/description'}, 'head': {'type': 'string', 'description': 'The name of the branch where your changes are implemented'}, 'base': {'type': 'string', 'description': 'The name of the branch you want the changes pulled into'}, 'draft': {'type': 'boolean', 'description': 'Whether to create the pull request as a draft'}, 'maintainer_can_modify': {'type': 'boolean', 'description': 'Whether maintainers can modify the pull request'}}, 'required': ['owner', 'repo', 'title', 'head', 'base'], 'additionalProperties': False, '$schema': 'http://json-schema.org/draft-07/schema#'}, response_format='content_and_artifact', coroutine=<function convert_mcp_tool_to_langchain_tool.<locals>.call_tool at 0x11bc4e340>), StructuredTool(name='fork_repository', description='Fork a GitHub repository to your account or specified organization', args_schema={'type': 'object', 'properties': {'owner': {'type': 'string', 'description': 'Repository owner (username or organization)'}, 'repo': {'type': 'string', 'description': 'Repository name'}, 'organization': {'type': 'string', 'description': 'Optional: organization to fork to (defaults to your personal account)'}}, 'required': ['owner', 'repo'], 'additionalProperties': False, '$schema': 'http://json-schema.org/draft-07/schema#'}, response_format='content_and_artifact', coroutine=<function convert_mcp_tool_to_langchain_tool.<locals>.call_tool at 0x11bc4e3e0>), StructuredTool(name='create_branch', description='Create a new branch in a GitHub repository', args_schema={'type': 'object', 'properties': {'owner': {'type': 'string', 'description': 'Repository owner (username or organization)'}, 'repo': {'type': 'string', 'description': 'Repository name'}, 'branch': {'type': 'string', 'description': 'Name for the new branch'}, 'from_branch': {'type': 'string', 'description': \"Optional: source branch to create from (defaults to the repository's default branch)\"}}, 'required': ['owner', 'repo', 'branch'], 'additionalProperties': False, '$schema': 'http://json-schema.org/draft-07/schema#'}, response_format='content_and_artifact', coroutine=<function convert_mcp_tool_to_langchain_tool.<locals>.call_tool at 0x11bc4e480>), StructuredTool(name='list_commits', description='Get list of commits of a branch in a GitHub repository', args_schema={'type': 'object', 'properties': {'owner': {'type': 'string'}, 'repo': {'type': 'string'}, 'sha': {'type': 'string'}, 'page': {'type': 'number'}, 'perPage': {'type': 'number'}}, 'required': ['owner', 'repo'], 'additionalProperties': False, '$schema': 'http://json-schema.org/draft-07/schema#'}, response_format='content_and_artifact', coroutine=<function convert_mcp_tool_to_langchain_tool.<locals>.call_tool at 0x11bc4e520>), StructuredTool(name='list_issues', description='List issues in a GitHub repository with filtering options', args_schema={'type': 'object', 'properties': {'owner': {'type': 'string'}, 'repo': {'type': 'string'}, 'direction': {'type': 'string', 'enum': ['asc', 'desc']}, 'labels': {'type': 'array', 'items': {'type': 'string'}}, 'page': {'type': 'number'}, 'per_page': {'type': 'number'}, 'since': {'type': 'string'}, 'sort': {'type': 'string', 'enum': ['created', 'updated', 'comments']}, 'state': {'type': 'string', 'enum': ['open', 'closed', 'all']}}, 'required': ['owner', 'repo'], 'additionalProperties': False, '$schema': 'http://json-schema.org/draft-07/schema#'}, response_format='content_and_artifact', coroutine=<function convert_mcp_tool_to_langchain_tool.<locals>.call_tool at 0x11bc4e5c0>), StructuredTool(name='update_issue', description='Update an existing issue in a GitHub repository', args_schema={'type': 'object', 'properties': {'owner': {'type': 'string'}, 'repo': {'type': 'string'}, 'issue_number': {'type': 'number'}, 'title': {'type': 'string'}, 'body': {'type': 'string'}, 'assignees': {'type': 'array', 'items': {'type': 'string'}}, 'milestone': {'type': 'number'}, 'labels': {'type': 'array', 'items': {'type': 'string'}}, 'state': {'type': 'string', 'enum': ['open', 'closed']}}, 'required': ['owner', 'repo', 'issue_number'], 'additionalProperties': False, '$schema': 'http://json-schema.org/draft-07/schema#'}, response_format='content_and_artifact', coroutine=<function convert_mcp_tool_to_langchain_tool.<locals>.call_tool at 0x11bc4e660>), StructuredTool(name='add_issue_comment', description='Add a comment to an existing issue', args_schema={'type': 'object', 'properties': {'owner': {'type': 'string'}, 'repo': {'type': 'string'}, 'issue_number': {'type': 'number'}, 'body': {'type': 'string'}}, 'required': ['owner', 'repo', 'issue_number', 'body'], 'additionalProperties': False, '$schema': 'http://json-schema.org/draft-07/schema#'}, response_format='content_and_artifact', coroutine=<function convert_mcp_tool_to_langchain_tool.<locals>.call_tool at 0x11bc4e700>), StructuredTool(name='search_code', description='Search for code across GitHub repositories', args_schema={'type': 'object', 'properties': {'q': {'type': 'string'}, 'order': {'type': 'string', 'enum': ['asc', 'desc']}, 'page': {'type': 'number', 'minimum': 1}, 'per_page': {'type': 'number', 'minimum': 1, 'maximum': 100}}, 'required': ['q'], 'additionalProperties': False, '$schema': 'http://json-schema.org/draft-07/schema#'}, response_format='content_and_artifact', coroutine=<function convert_mcp_tool_to_langchain_tool.<locals>.call_tool at 0x11bc4e7a0>), StructuredTool(name='search_issues', description='Search for issues and pull requests across GitHub repositories', args_schema={'type': 'object', 'properties': {'q': {'type': 'string'}, 'order': {'type': 'string', 'enum': ['asc', 'desc']}, 'page': {'type': 'number', 'minimum': 1}, 'per_page': {'type': 'number', 'minimum': 1, 'maximum': 100}, 'sort': {'type': 'string', 'enum': ['comments', 'reactions', 'reactions-+1', 'reactions--1', 'reactions-smile', 'reactions-thinking_face', 'reactions-heart', 'reactions-tada', 'interactions', 'created', 'updated']}}, 'required': ['q'], 'additionalProperties': False, '$schema': 'http://json-schema.org/draft-07/schema#'}, response_format='content_and_artifact', coroutine=<function convert_mcp_tool_to_langchain_tool.<locals>.call_tool at 0x11bc4e840>), StructuredTool(name='search_users', description='Search for users on GitHub', args_schema={'type': 'object', 'properties': {'q': {'type': 'string'}, 'order': {'type': 'string', 'enum': ['asc', 'desc']}, 'page': {'type': 'number', 'minimum': 1}, 'per_page': {'type': 'number', 'minimum': 1, 'maximum': 100}, 'sort': {'type': 'string', 'enum': ['followers', 'repositories', 'joined']}}, 'required': ['q'], 'additionalProperties': False, '$schema': 'http://json-schema.org/draft-07/schema#'}, response_format='content_and_artifact', coroutine=<function convert_mcp_tool_to_langchain_tool.<locals>.call_tool at 0x11bc4e8e0>), StructuredTool(name='get_issue', description='Get details of a specific issue in a GitHub repository.', args_schema={'type': 'object', 'properties': {'owner': {'type': 'string'}, 'repo': {'type': 'string'}, 'issue_number': {'type': 'number'}}, 'required': ['owner', 'repo', 'issue_number'], 'additionalProperties': False, '$schema': 'http://json-schema.org/draft-07/schema#'}, response_format='content_and_artifact', coroutine=<function convert_mcp_tool_to_langchain_tool.<locals>.call_tool at 0x11bc4e980>), StructuredTool(name='get_pull_request', description='Get details of a specific pull request', args_schema={'type': 'object', 'properties': {'owner': {'type': 'string', 'description': 'Repository owner (username or organization)'}, 'repo': {'type': 'string', 'description': 'Repository name'}, 'pull_number': {'type': 'number', 'description': 'Pull request number'}}, 'required': ['owner', 'repo', 'pull_number'], 'additionalProperties': False, '$schema': 'http://json-schema.org/draft-07/schema#'}, response_format='content_and_artifact', coroutine=<function convert_mcp_tool_to_langchain_tool.<locals>.call_tool at 0x11bc4ea20>), StructuredTool(name='list_pull_requests', description='List and filter repository pull requests', args_schema={'type': 'object', 'properties': {'owner': {'type': 'string', 'description': 'Repository owner (username or organization)'}, 'repo': {'type': 'string', 'description': 'Repository name'}, 'state': {'type': 'string', 'enum': ['open', 'closed', 'all'], 'description': 'State of the pull requests to return'}, 'head': {'type': 'string', 'description': 'Filter by head user or head organization and branch name'}, 'base': {'type': 'string', 'description': 'Filter by base branch name'}, 'sort': {'type': 'string', 'enum': ['created', 'updated', 'popularity', 'long-running'], 'description': 'What to sort results by'}, 'direction': {'type': 'string', 'enum': ['asc', 'desc'], 'description': 'The direction of the sort'}, 'per_page': {'type': 'number', 'description': 'Results per page (max 100)'}, 'page': {'type': 'number', 'description': 'Page number of the results'}}, 'required': ['owner', 'repo'], 'additionalProperties': False, '$schema': 'http://json-schema.org/draft-07/schema#'}, response_format='content_and_artifact', coroutine=<function convert_mcp_tool_to_langchain_tool.<locals>.call_tool at 0x11bc4eac0>), StructuredTool(name='create_pull_request_review', description='Create a review on a pull request', args_schema={'type': 'object', 'properties': {'owner': {'type': 'string', 'description': 'Repository owner (username or organization)'}, 'repo': {'type': 'string', 'description': 'Repository name'}, 'pull_number': {'type': 'number', 'description': 'Pull request number'}, 'commit_id': {'type': 'string', 'description': 'The SHA of the commit that needs a review'}, 'body': {'type': 'string', 'description': 'The body text of the review'}, 'event': {'type': 'string', 'enum': ['APPROVE', 'REQUEST_CHANGES', 'COMMENT'], 'description': 'The review action to perform'}, 'comments': {'type': 'array', 'items': {'anyOf': [{'type': 'object', 'properties': {'path': {'type': 'string', 'description': 'The relative path to the file being commented on'}, 'position': {'type': 'number', 'description': 'The position in the diff where you want to add a review comment'}, 'body': {'type': 'string', 'description': 'Text of the review comment'}}, 'required': ['path', 'position', 'body'], 'additionalProperties': False}, {'type': 'object', 'properties': {'path': {'type': 'string', 'description': 'The relative path to the file being commented on'}, 'line': {'type': 'number', 'description': 'The line number in the file where you want to add a review comment'}, 'body': {'type': 'string', 'description': 'Text of the review comment'}}, 'required': ['path', 'line', 'body'], 'additionalProperties': False}]}, 'description': 'Comments to post as part of the review (specify either position or line, not both)'}}, 'required': ['owner', 'repo', 'pull_number', 'body', 'event'], 'additionalProperties': False, '$schema': 'http://json-schema.org/draft-07/schema#'}, response_format='content_and_artifact', coroutine=<function convert_mcp_tool_to_langchain_tool.<locals>.call_tool at 0x11bc4eb60>), StructuredTool(name='merge_pull_request', description='Merge a pull request', args_schema={'type': 'object', 'properties': {'owner': {'type': 'string', 'description': 'Repository owner (username or organization)'}, 'repo': {'type': 'string', 'description': 'Repository name'}, 'pull_number': {'type': 'number', 'description': 'Pull request number'}, 'commit_title': {'type': 'string', 'description': 'Title for the automatic commit message'}, 'commit_message': {'type': 'string', 'description': 'Extra detail to append to automatic commit message'}, 'merge_method': {'type': 'string', 'enum': ['merge', 'squash', 'rebase'], 'description': 'Merge method to use'}}, 'required': ['owner', 'repo', 'pull_number'], 'additionalProperties': False, '$schema': 'http://json-schema.org/draft-07/schema#'}, response_format='content_and_artifact', coroutine=<function convert_mcp_tool_to_langchain_tool.<locals>.call_tool at 0x11bc4ec00>), StructuredTool(name='get_pull_request_files', description='Get the list of files changed in a pull request', args_schema={'type': 'object', 'properties': {'owner': {'type': 'string', 'description': 'Repository owner (username or organization)'}, 'repo': {'type': 'string', 'description': 'Repository name'}, 'pull_number': {'type': 'number', 'description': 'Pull request number'}}, 'required': ['owner', 'repo', 'pull_number'], 'additionalProperties': False, '$schema': 'http://json-schema.org/draft-07/schema#'}, response_format='content_and_artifact', coroutine=<function convert_mcp_tool_to_langchain_tool.<locals>.call_tool at 0x11bc4eca0>), StructuredTool(name='get_pull_request_status', description='Get the combined status of all status checks for a pull request', args_schema={'type': 'object', 'properties': {'owner': {'type': 'string', 'description': 'Repository owner (username or organization)'}, 'repo': {'type': 'string', 'description': 'Repository name'}, 'pull_number': {'type': 'number', 'description': 'Pull request number'}}, 'required': ['owner', 'repo', 'pull_number'], 'additionalProperties': False, '$schema': 'http://json-schema.org/draft-07/schema#'}, response_format='content_and_artifact', coroutine=<function convert_mcp_tool_to_langchain_tool.<locals>.call_tool at 0x11bc4ed40>), StructuredTool(name='update_pull_request_branch', description='Update a pull request branch with the latest changes from the base branch', args_schema={'type': 'object', 'properties': {'owner': {'type': 'string', 'description': 'Repository owner (username or organization)'}, 'repo': {'type': 'string', 'description': 'Repository name'}, 'pull_number': {'type': 'number', 'description': 'Pull request number'}, 'expected_head_sha': {'type': 'string', 'description': \"The expected SHA of the pull request's HEAD ref\"}}, 'required': ['owner', 'repo', 'pull_number'], 'additionalProperties': False, '$schema': 'http://json-schema.org/draft-07/schema#'}, response_format='content_and_artifact', coroutine=<function convert_mcp_tool_to_langchain_tool.<locals>.call_tool at 0x11bc4ede0>), StructuredTool(name='get_pull_request_comments', description='Get the review comments on a pull request', args_schema={'type': 'object', 'properties': {'owner': {'type': 'string', 'description': 'Repository owner (username or organization)'}, 'repo': {'type': 'string', 'description': 'Repository name'}, 'pull_number': {'type': 'number', 'description': 'Pull request number'}}, 'required': ['owner', 'repo', 'pull_number'], 'additionalProperties': False, '$schema': 'http://json-schema.org/draft-07/schema#'}, response_format='content_and_artifact', coroutine=<function convert_mcp_tool_to_langchain_tool.<locals>.call_tool at 0x11bc4ee80>), StructuredTool(name='get_pull_request_reviews', description='Get the reviews on a pull request', args_schema={'type': 'object', 'properties': {'owner': {'type': 'string', 'description': 'Repository owner (username or organization)'}, 'repo': {'type': 'string', 'description': 'Repository name'}, 'pull_number': {'type': 'number', 'description': 'Pull request number'}}, 'required': ['owner', 'repo', 'pull_number'], 'additionalProperties': False, '$schema': 'http://json-schema.org/draft-07/schema#'}, response_format='content_and_artifact', coroutine=<function convert_mcp_tool_to_langchain_tool.<locals>.call_tool at 0x11bc4ef20>)]\n",
      "I have the following tools at my disposal:\n",
      "\n",
      "1. **Browser Tools**:\n",
      "   - Navigate to a URL\n",
      "   - Close the page\n",
      "   - Open a new tab\n",
      "   - List browser tabs\n",
      "   - Select a tab\n",
      "   - Close a tab\n",
      "   - Resize the browser window\n",
      "   - Wait for a specified time\n",
      "   - Press a key on the keyboard\n",
      "   - Handle a dialog\n",
      "   - Upload files\n",
      "   - Take screenshots\n",
      "   - Save a page as PDF\n",
      "   - Capture accessibility snapshots\n",
      "   - Perform clicks, drags, hovers, and typing actions\n",
      "   - Select options in dropdowns\n",
      "   - Retrieve console messages\n",
      "   - Retrieve network requests\n",
      "   \n",
      "2. **GitHub Tools**:\n",
      "   - Search for repositories, code, issues, users, etc.\n",
      "   - Create or update files in a repository\n",
      "   - Create, list, update, and delete issues\n",
      "   - Create pull requests and reviews\n",
      "   - Merge pull requests\n",
      "   - Fork repositories\n",
      "   - Create branches\n",
      "   - Get repository contents, commits, and pull request details\n",
      "   \n",
      "These tools enable me to interact with web pages and manage GitHub repositories efficiently. If you have a specific task in mind, let me know!\n"
     ]
    },
    {
     "name": "stderr",
     "output_type": "stream",
     "text": [
      "/var/folders/14/v6n289_j38zblcgwvg271f1w0000gn/T/ipykernel_57328/2867987185.py:36: RuntimeWarning: coroutine 'Pregel.ainvoke' was never awaited\n",
      "  response = await agent.ainvoke({'messages':'What are the tools you have?'})\n",
      "RuntimeWarning: Enable tracemalloc to get the object allocation traceback\n"
     ]
    }
   ],
   "source": [
    "from dotenv import load_dotenv\n",
    "load_dotenv()\n",
    "\n",
    "import os\n",
    "from langchain_mcp_adapters.client import MultiServerMCPClient\n",
    "from langgraph.prebuilt import create_react_agent\n",
    "from langchain_openai import ChatOpenAI\n",
    "\n",
    "model = ChatOpenAI(model='gpt-4o-mini')\n",
    "\n",
    "\n",
    "config = {\n",
    "    \"playwright\": {\n",
    "          \"command\": \"npx\",\n",
    "          \"args\": [\"@playwright/mcp@latest\"],\n",
    "          \"env\": {\n",
    "            \"DISPLAY\": \":1\"\n",
    "          }\n",
    "        },\n",
    "    \"github\": {\n",
    "                \"command\": \"npx\",\n",
    "                \"args\": [\n",
    "                    \"-y\",\n",
    "                    \"@modelcontextprotocol/server-github\"\n",
    "                ],\n",
    "                \"env\": {\n",
    "                    \"GITHUB_PERSONAL_ACCESS_TOKEN\": os.getenv('GITHUB_PERSONAL_TOKEN')\n",
    "                }\n",
    "            }\n",
    "  }\n",
    "\n",
    "\n",
    "async with MultiServerMCPClient(config) as client:\n",
    "    print(client.get_tools())\n",
    "    agent = create_react_agent(model, client.get_tools())\n",
    "    response = await agent.ainvoke({'messages':'What are the tools you have?'})\n",
    "    print(response['messages'][-1].content)"
   ]
  },
  {
   "cell_type": "code",
   "execution_count": null,
   "metadata": {},
   "outputs": [],
   "source": [
    "\n"
   ]
  }
 ],
 "metadata": {
  "kernelspec": {
   "display_name": "venv_mcp",
   "language": "python",
   "name": "venv_mcp"
  },
  "language_info": {
   "codemirror_mode": {
    "name": "ipython",
    "version": 3
   },
   "file_extension": ".py",
   "mimetype": "text/x-python",
   "name": "python",
   "nbconvert_exporter": "python",
   "pygments_lexer": "ipython3",
   "version": "3.12.10"
  }
 },
 "nbformat": 4,
 "nbformat_minor": 2
}
